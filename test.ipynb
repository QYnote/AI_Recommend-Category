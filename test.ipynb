{
 "cells": [
  {
   "cell_type": "code",
   "execution_count": 13,
   "metadata": {},
   "outputs": [],
   "source": [
    "import pandas as pd #DataFrame 용\n",
    "import numpy as np\n",
    "import joblib   #모델 불러오기용\n",
    "import os\n",
    "import json\n",
    "\n",
    "from programFiles import keywordManage\n",
    "from programFiles import Preprocess as pre\n",
    "from programFiles import Learning"
   ]
  },
  {
   "cell_type": "code",
   "execution_count": 3,
   "metadata": {},
   "outputs": [],
   "source": [
    "path = \"D:\\\\00.Storage\\\\Study\\\\Programing\\\\Project\\\\AI_Recommend-Category\"+ \"\\\\\" + 'ConstData.json'\n",
    "\n",
    "with open(path, encoding='utf-8') as f:\n",
    "    json_obj = json.load(f)\n",
    "\n",
    "json_obj = json_obj[\"Run\"]\n",
    "\n",
    "del path\n",
    "del f"
   ]
  },
  {
   "cell_type": "code",
   "execution_count": 4,
   "metadata": {},
   "outputs": [],
   "source": [
    "fileName = json_obj[\"runFileDirectory\"] + \"\\\\\" + json_obj[\"runFileName\"] #파일명\n",
    "dfExcel = pd.read_excel(fileName)\n",
    "df = pd.DataFrame(dfExcel, columns= [json_obj[\"runUseColumn\"]]) #사용하는 Column만 추출1\n",
    "\n",
    "del dfExcel\n",
    "del fileName"
   ]
  },
  {
   "cell_type": "code",
   "execution_count": 5,
   "metadata": {},
   "outputs": [],
   "source": [
    "dfInput = keywordManage.loadKeywordList()\n",
    "\n",
    "for row in df.loc[:, json_obj[\"runUseColumn\"]]:    #상품명 Column 데이터만 추출[aa bb cc, dd,ee]\n",
    "    keywords = []\n",
    "    keywordManage.keywordExtract(insList=keywords, strValue=row)\n",
    "    dfInput = pre.createInputDf(dfInput, keywords)\n",
    "\n",
    "del keywords\n",
    "del row"
   ]
  },
  {
   "cell_type": "code",
   "execution_count": 6,
   "metadata": {},
   "outputs": [],
   "source": [
    "#최근 학습한모델 가져오기\n",
    "model = joblib.load(Learning.getRecentModel())\n",
    "\n",
    "#모델에 적용시긴 결과 가져오기\n",
    "\n",
    "result = pd.DataFrame(model.predict(dfInput))\n",
    "result['origin'] = df"
   ]
  },
  {
   "cell_type": "code",
   "execution_count": 14,
   "metadata": {},
   "outputs": [],
   "source": [
    "resultData = model.predict_proba(dfInput)\n",
    "rateList = []\n",
    "\n",
    "for row in resultData:\n",
    "    maxValue = 0\n",
    "    for value in row:\n",
    "        if (maxValue < value):\n",
    "            maxValue = value\n",
    "    rateList.append(maxValue)\n",
    "\n",
    "rateList = format(np.argmax(model.predict_proba(dfInput), axis=1))\n",
    "\n",
    "result['Rate'] = rateList\n",
    "\n",
    "result.loc[result['Rate'] < 0.6, 0] = ''"
   ]
  }
 ],
 "metadata": {
  "kernelspec": {
   "display_name": "Python 3",
   "language": "python",
   "name": "python3"
  },
  "language_info": {
   "codemirror_mode": {
    "name": "ipython",
    "version": 3
   },
   "file_extension": ".py",
   "mimetype": "text/x-python",
   "name": "python",
   "nbconvert_exporter": "python",
   "pygments_lexer": "ipython3",
   "version": "3.8.6"
  },
  "orig_nbformat": 4
 },
 "nbformat": 4,
 "nbformat_minor": 2
}
