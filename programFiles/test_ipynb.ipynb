{
 "cells": [
  {
   "cell_type": "code",
   "execution_count": 7,
   "metadata": {},
   "outputs": [],
   "source": [
    "import pandas as pd #DataFrame 용\n",
    "import datetime\n",
    "# import tkinter.messagebox as msgbox\n",
    "import joblib   #모델 저장용\n",
    "import json\n",
    "import os\n",
    "\n",
    "# import defGlobal\n",
    "import Preprocess as pre\n",
    "import keywordManage\n",
    "import Learning\n",
    "\n",
    "import mglearn"
   ]
  },
  {
   "cell_type": "code",
   "execution_count": 18,
   "metadata": {},
   "outputs": [
    {
     "name": "stdout",
     "output_type": "stream",
     "text": [
      "None\n"
     ]
    },
    {
     "data": {
      "text/plain": [
       "'d:\\\\'"
      ]
     },
     "execution_count": 18,
     "metadata": {},
     "output_type": "execute_result"
    }
   ],
   "source": []
  },
  {
   "cell_type": "code",
   "execution_count": 25,
   "metadata": {},
   "outputs": [
    {
     "name": "stdout",
     "output_type": "stream",
     "text": [
      "json파일 가져오기\n",
      "json파일 가져오기 종료\n",
      "1차가공 시작\n",
      "1차가공 종료\n",
      "2차가공 시작\n",
      "2차가공 종료\n"
     ]
    }
   ],
   "source": [
    "\n",
    "print('json파일 가져오기')\n",
    "#json파일 불러오기 : 이 파일과 같은 폴더에 있을 것\n",
    "path =\"D:\\\\00.Storage\\\\Study\\\\Programing\\\\Project\\\\SmartStore\\\\UserFile\" + \"\\\\\" + 'ConstData.json'\n",
    "\n",
    "with open(path, encoding='utf-8') as f:\n",
    "    json_obj = json.load(f)\n",
    "\n",
    "json_obj = json_obj[\"Learning\"]\n",
    "print('json파일 가져오기 종료')\n",
    "\n",
    "#학습할 엑셀 파일 불러오기\n",
    "#테스트용 : '카테고리명', 실사용: '마켓 카테고리번호'\n",
    "useColumn = json_obj[\"learningUseColumn\"] #사용할 Column명\n",
    "path = json_obj[\"learningFileDirectory\"] + '\\\\' + json_obj[\"learningFileName\"]\n",
    "\n",
    "dfExcel = pd.read_excel(path)\n",
    "dfExcel = dfExcel.drop([0]) #첫번째 설명Row 삭제\n",
    "df = pd.DataFrame(dfExcel, columns= useColumn) #사용하는 Column만 추출\n",
    "df = df.reset_index(drop=True)\n",
    "\n",
    "###############################################################################################\n",
    "#1차가공\n",
    "print('1차가공 시작')\n",
    "\n",
    "#Output Data 가공 : 누나꺼 전용\n",
    "#쿠팡의 카테고리코드번호로 나오도록 출력\n",
    "#줄바꿈(char(10))으로 split -> '*'로 split -> [1]번째 Column값으로 변경\n",
    "#쿠팡이 항상 첫번재 행의 쿠팡*1234로 이루어져있다고함\n",
    "# if(useColumn[0] == '마켓 카테고리번호'):\n",
    "#     for idx in range(0, len(df)):\n",
    "#         if(type(df.loc[idx, useColumn[0]]) == str):\n",
    "#             if('쿠팡*' in df.loc[idx, useColumn[0]]):\n",
    "#                 df.loc[idx, useColumn[0]] = df.loc[idx, useColumn[0]].splitlines(keepends=False)[0].split('*')[1]\n",
    "#         else:\n",
    "#             df.drop([idx], inplace=True)\n",
    "            \n",
    "#     df = df.reset_index(drop=True)\n",
    "\n",
    "# category_dic = {}\n",
    "#     for j in range(len(category_list)):\n",
    "#         category_list[j]= category_list[j].split(\"*\")\n",
    "#         if category_list[j] == ['']:\n",
    "#             pass\n",
    "#         else:\n",
    "#             category_dic[category_list[j][0]] = category_list[j][1]\n",
    "\n",
    "#Input용 키워드 리스트 추출 및 저장\n",
    "keywords = []\n",
    "for row in df.loc[:, useColumn[1]]:\n",
    "    keywordManage.keywordExtract(insList=keywords, strValue=row, outStr=json_obj[\"ExceptionWord\"])\n",
    "\n",
    "keywords = keywordManage.keywordVectorizer(keywords=keywords)\n",
    "keywordManage.saveKeyword(keywords)\n",
    "\n",
    "print('1차가공 종료')\n",
    "###############################################################################################\n",
    "#2차가공\n",
    "print('2차가공 시작')\n",
    "#전처리\n",
    "#Input용 키워드 리스트 호출\n",
    "dfInput = keywordManage.loadKeywordList()\n",
    "dfOutput = df.loc[:, useColumn[0]]\n",
    "\n",
    "#Input DataFrame 제작\n",
    "for row in df.loc[:, useColumn[1]]:    #상품명 Column 데이터만 추출[aa bb cc, dd,ee]\n",
    "    keywords = []\n",
    "    keywordManage.keywordExtract(insList=keywords, strValue=row)\n",
    "    dfInput = pre.createInputDf(dfInput, keywords)\n",
    "\n",
    "#Input 데이터 증가\n",
    "minCnt = json_obj[\"MinLearningDataCnt\"]\n",
    "\n",
    "if(dfInput.shape[0] != 0 and dfOutput.shape[0] != 0):\n",
    "    while(dfInput.shape[0] < minCnt and dfOutput.shape[0] < minCnt):\n",
    "        # pandas 2.0.0 이상\n",
    "        dfInput = pd.concat([dfInput, dfInput])\n",
    "        dfOutput = pd.concat([dfOutput, dfOutput])\n",
    "\n",
    "        # #pandas 2.0.0 ver 미만\n",
    "        # dfInput = dfInput.append(dfInput)\n",
    "        # dfOutput = dfOutput.append(dfOutput)\n",
    "\n",
    "print('2차가공 종료')"
   ]
  },
  {
   "cell_type": "code",
   "execution_count": 26,
   "metadata": {},
   "outputs": [],
   "source": [
    "x, y = mglearn.datasets.make_forge()"
   ]
  },
  {
   "cell_type": "code",
   "execution_count": 29,
   "metadata": {},
   "outputs": [
    {
     "ename": "ValueError",
     "evalue": "Expected 2D array, got scalar array instead:\narray=쉐보레 트레버스 콘솔트레이 콘솔박스 팔걸이 수납 정리함.\nReshape your data either using array.reshape(-1, 1) if your data has a single feature or array.reshape(1, -1) if it contains a single sample.",
     "output_type": "error",
     "traceback": [
      "\u001b[1;31m---------------------------------------------------------------------------\u001b[0m",
      "\u001b[1;31mValueError\u001b[0m                                Traceback (most recent call last)",
      "\u001b[1;32mC:\\Users\\Public\\Documents\\ESTsoft\\CreatorTemp/ipykernel_3928/1767136894.py\u001b[0m in \u001b[0;36m<module>\u001b[1;34m\u001b[0m\n\u001b[0;32m      2\u001b[0m \u001b[0mmodel\u001b[0m \u001b[1;33m=\u001b[0m \u001b[0mjoblib\u001b[0m\u001b[1;33m.\u001b[0m\u001b[0mload\u001b[0m\u001b[1;33m(\u001b[0m\u001b[0mLearning\u001b[0m\u001b[1;33m.\u001b[0m\u001b[0mgetRecentModel\u001b[0m\u001b[1;33m(\u001b[0m\u001b[1;33m)\u001b[0m\u001b[1;33m)\u001b[0m\u001b[1;33m\u001b[0m\u001b[1;33m\u001b[0m\u001b[0m\n\u001b[0;32m      3\u001b[0m \u001b[1;33m\u001b[0m\u001b[0m\n\u001b[1;32m----> 4\u001b[1;33m clf = model.fit('쉐보레 트레버스 콘솔트레이 콘솔박스 팔걸이 수납 정리함'\n\u001b[0m\u001b[0;32m      5\u001b[0m     , '''쿠팡*78154\n\u001b[0;32m      6\u001b[0m \u001b[0m옥션\u001b[0m\u001b[1;33m*\u001b[0m\u001b[1;36m75110400\u001b[0m\u001b[1;33m\u001b[0m\u001b[1;33m\u001b[0m\u001b[0m\n",
      "\u001b[1;32mc:\\Users\\jmhc6\\AppData\\Local\\Programs\\Python\\Python38\\lib\\site-packages\\sklearn\\neighbors\\_classification.py\u001b[0m in \u001b[0;36mfit\u001b[1;34m(self, X, y)\u001b[0m\n\u001b[0;32m    213\u001b[0m         \u001b[0mself\u001b[0m\u001b[1;33m.\u001b[0m\u001b[0m_validate_params\u001b[0m\u001b[1;33m(\u001b[0m\u001b[1;33m)\u001b[0m\u001b[1;33m\u001b[0m\u001b[1;33m\u001b[0m\u001b[0m\n\u001b[0;32m    214\u001b[0m \u001b[1;33m\u001b[0m\u001b[0m\n\u001b[1;32m--> 215\u001b[1;33m         \u001b[1;32mreturn\u001b[0m \u001b[0mself\u001b[0m\u001b[1;33m.\u001b[0m\u001b[0m_fit\u001b[0m\u001b[1;33m(\u001b[0m\u001b[0mX\u001b[0m\u001b[1;33m,\u001b[0m \u001b[0my\u001b[0m\u001b[1;33m)\u001b[0m\u001b[1;33m\u001b[0m\u001b[1;33m\u001b[0m\u001b[0m\n\u001b[0m\u001b[0;32m    216\u001b[0m \u001b[1;33m\u001b[0m\u001b[0m\n\u001b[0;32m    217\u001b[0m     \u001b[1;32mdef\u001b[0m \u001b[0mpredict\u001b[0m\u001b[1;33m(\u001b[0m\u001b[0mself\u001b[0m\u001b[1;33m,\u001b[0m \u001b[0mX\u001b[0m\u001b[1;33m)\u001b[0m\u001b[1;33m:\u001b[0m\u001b[1;33m\u001b[0m\u001b[1;33m\u001b[0m\u001b[0m\n",
      "\u001b[1;32mc:\\Users\\jmhc6\\AppData\\Local\\Programs\\Python\\Python38\\lib\\site-packages\\sklearn\\neighbors\\_base.py\u001b[0m in \u001b[0;36m_fit\u001b[1;34m(self, X, y)\u001b[0m\n\u001b[0;32m    452\u001b[0m         \u001b[1;32mif\u001b[0m \u001b[0mself\u001b[0m\u001b[1;33m.\u001b[0m\u001b[0m_get_tags\u001b[0m\u001b[1;33m(\u001b[0m\u001b[1;33m)\u001b[0m\u001b[1;33m[\u001b[0m\u001b[1;34m\"requires_y\"\u001b[0m\u001b[1;33m]\u001b[0m\u001b[1;33m:\u001b[0m\u001b[1;33m\u001b[0m\u001b[1;33m\u001b[0m\u001b[0m\n\u001b[0;32m    453\u001b[0m             \u001b[1;32mif\u001b[0m \u001b[1;32mnot\u001b[0m \u001b[0misinstance\u001b[0m\u001b[1;33m(\u001b[0m\u001b[0mX\u001b[0m\u001b[1;33m,\u001b[0m \u001b[1;33m(\u001b[0m\u001b[0mKDTree\u001b[0m\u001b[1;33m,\u001b[0m \u001b[0mBallTree\u001b[0m\u001b[1;33m,\u001b[0m \u001b[0mNeighborsBase\u001b[0m\u001b[1;33m)\u001b[0m\u001b[1;33m)\u001b[0m\u001b[1;33m:\u001b[0m\u001b[1;33m\u001b[0m\u001b[1;33m\u001b[0m\u001b[0m\n\u001b[1;32m--> 454\u001b[1;33m                 X, y = self._validate_data(\n\u001b[0m\u001b[0;32m    455\u001b[0m                     \u001b[0mX\u001b[0m\u001b[1;33m,\u001b[0m \u001b[0my\u001b[0m\u001b[1;33m,\u001b[0m \u001b[0maccept_sparse\u001b[0m\u001b[1;33m=\u001b[0m\u001b[1;34m\"csr\"\u001b[0m\u001b[1;33m,\u001b[0m \u001b[0mmulti_output\u001b[0m\u001b[1;33m=\u001b[0m\u001b[1;32mTrue\u001b[0m\u001b[1;33m,\u001b[0m \u001b[0morder\u001b[0m\u001b[1;33m=\u001b[0m\u001b[1;34m\"C\"\u001b[0m\u001b[1;33m\u001b[0m\u001b[1;33m\u001b[0m\u001b[0m\n\u001b[0;32m    456\u001b[0m                 )\n",
      "\u001b[1;32mc:\\Users\\jmhc6\\AppData\\Local\\Programs\\Python\\Python38\\lib\\site-packages\\sklearn\\base.py\u001b[0m in \u001b[0;36m_validate_data\u001b[1;34m(self, X, y, reset, validate_separately, **check_params)\u001b[0m\n\u001b[0;32m    552\u001b[0m                 \u001b[0my\u001b[0m \u001b[1;33m=\u001b[0m \u001b[0mcheck_array\u001b[0m\u001b[1;33m(\u001b[0m\u001b[0my\u001b[0m\u001b[1;33m,\u001b[0m \u001b[0minput_name\u001b[0m\u001b[1;33m=\u001b[0m\u001b[1;34m\"y\"\u001b[0m\u001b[1;33m,\u001b[0m \u001b[1;33m**\u001b[0m\u001b[0mcheck_y_params\u001b[0m\u001b[1;33m)\u001b[0m\u001b[1;33m\u001b[0m\u001b[1;33m\u001b[0m\u001b[0m\n\u001b[0;32m    553\u001b[0m             \u001b[1;32melse\u001b[0m\u001b[1;33m:\u001b[0m\u001b[1;33m\u001b[0m\u001b[1;33m\u001b[0m\u001b[0m\n\u001b[1;32m--> 554\u001b[1;33m                 \u001b[0mX\u001b[0m\u001b[1;33m,\u001b[0m \u001b[0my\u001b[0m \u001b[1;33m=\u001b[0m \u001b[0mcheck_X_y\u001b[0m\u001b[1;33m(\u001b[0m\u001b[0mX\u001b[0m\u001b[1;33m,\u001b[0m \u001b[0my\u001b[0m\u001b[1;33m,\u001b[0m \u001b[1;33m**\u001b[0m\u001b[0mcheck_params\u001b[0m\u001b[1;33m)\u001b[0m\u001b[1;33m\u001b[0m\u001b[1;33m\u001b[0m\u001b[0m\n\u001b[0m\u001b[0;32m    555\u001b[0m             \u001b[0mout\u001b[0m \u001b[1;33m=\u001b[0m \u001b[0mX\u001b[0m\u001b[1;33m,\u001b[0m \u001b[0my\u001b[0m\u001b[1;33m\u001b[0m\u001b[1;33m\u001b[0m\u001b[0m\n\u001b[0;32m    556\u001b[0m \u001b[1;33m\u001b[0m\u001b[0m\n",
      "\u001b[1;32mc:\\Users\\jmhc6\\AppData\\Local\\Programs\\Python\\Python38\\lib\\site-packages\\sklearn\\utils\\validation.py\u001b[0m in \u001b[0;36mcheck_X_y\u001b[1;34m(X, y, accept_sparse, accept_large_sparse, dtype, order, copy, force_all_finite, ensure_2d, allow_nd, multi_output, ensure_min_samples, ensure_min_features, y_numeric, estimator)\u001b[0m\n\u001b[0;32m   1102\u001b[0m         )\n\u001b[0;32m   1103\u001b[0m \u001b[1;33m\u001b[0m\u001b[0m\n\u001b[1;32m-> 1104\u001b[1;33m     X = check_array(\n\u001b[0m\u001b[0;32m   1105\u001b[0m         \u001b[0mX\u001b[0m\u001b[1;33m,\u001b[0m\u001b[1;33m\u001b[0m\u001b[1;33m\u001b[0m\u001b[0m\n\u001b[0;32m   1106\u001b[0m         \u001b[0maccept_sparse\u001b[0m\u001b[1;33m=\u001b[0m\u001b[0maccept_sparse\u001b[0m\u001b[1;33m,\u001b[0m\u001b[1;33m\u001b[0m\u001b[1;33m\u001b[0m\u001b[0m\n",
      "\u001b[1;32mc:\\Users\\jmhc6\\AppData\\Local\\Programs\\Python\\Python38\\lib\\site-packages\\sklearn\\utils\\validation.py\u001b[0m in \u001b[0;36mcheck_array\u001b[1;34m(array, accept_sparse, accept_large_sparse, dtype, order, copy, force_all_finite, ensure_2d, allow_nd, ensure_min_samples, ensure_min_features, estimator, input_name)\u001b[0m\n\u001b[0;32m    890\u001b[0m             \u001b[1;31m# If input is scalar raise error\u001b[0m\u001b[1;33m\u001b[0m\u001b[1;33m\u001b[0m\u001b[1;33m\u001b[0m\u001b[0m\n\u001b[0;32m    891\u001b[0m             \u001b[1;32mif\u001b[0m \u001b[0marray\u001b[0m\u001b[1;33m.\u001b[0m\u001b[0mndim\u001b[0m \u001b[1;33m==\u001b[0m \u001b[1;36m0\u001b[0m\u001b[1;33m:\u001b[0m\u001b[1;33m\u001b[0m\u001b[1;33m\u001b[0m\u001b[0m\n\u001b[1;32m--> 892\u001b[1;33m                 raise ValueError(\n\u001b[0m\u001b[0;32m    893\u001b[0m                     \u001b[1;34m\"Expected 2D array, got scalar array instead:\\narray={}.\\n\"\u001b[0m\u001b[1;33m\u001b[0m\u001b[1;33m\u001b[0m\u001b[0m\n\u001b[0;32m    894\u001b[0m                     \u001b[1;34m\"Reshape your data either using array.reshape(-1, 1) if \"\u001b[0m\u001b[1;33m\u001b[0m\u001b[1;33m\u001b[0m\u001b[0m\n",
      "\u001b[1;31mValueError\u001b[0m: Expected 2D array, got scalar array instead:\narray=쉐보레 트레버스 콘솔트레이 콘솔박스 팔걸이 수납 정리함.\nReshape your data either using array.reshape(-1, 1) if your data has a single feature or array.reshape(1, -1) if it contains a single sample."
     ]
    }
   ],
   "source": [
    "#최근 학습한모델 가져오기\n",
    "model = joblib.load(Learning.getRecentModel())\n",
    "\n",
    "clf = model.fit(['쉐보레', '트레버스', '콘솔트레이', '콘솔박스', '팔걸이', '수납', '정리함']\n",
    "    , ['''쿠팡*78154\n",
    "옥션*75110400\n",
    "G마켓*300018233\n",
    "11번가*1009666\n",
    "인터파크*001820238007\n",
    "스마트스토어*50003663\n",
    "위메프2.0*4100348\n",
    "ESM2.0*00370001001100040000*75110400*300018233\n",
    "롯데ON*BC52050500\n",
    "톡스토어*104105137110'''])\n",
    "\n",
    "mglearn.plots.plot_2d_separator(clf, fill=True, eps=0.5, alpha=4)\n",
    "mglearn.discrete_scatter(X[:, 0], X[:, 1], y, ax=ax)\n",
    "ax.set_title(\"{} neighbor(s)\".format(n_neighbors))\n",
    "ax.set_xlabel(\"feature0\")\n",
    "ax.set_ylabel(\"feature1\")"
   ]
  },
  {
   "cell_type": "code",
   "execution_count": null,
   "metadata": {},
   "outputs": [],
   "source": []
  }
 ],
 "metadata": {
  "kernelspec": {
   "display_name": "Python 3",
   "language": "python",
   "name": "python3"
  },
  "language_info": {
   "codemirror_mode": {
    "name": "ipython",
    "version": 3
   },
   "file_extension": ".py",
   "mimetype": "text/x-python",
   "name": "python",
   "nbconvert_exporter": "python",
   "pygments_lexer": "ipython3",
   "version": "3.8.6"
  },
  "orig_nbformat": 4
 },
 "nbformat": 4,
 "nbformat_minor": 2
}
